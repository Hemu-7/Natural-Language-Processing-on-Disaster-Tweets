{
 "cells": [
  {
   "cell_type": "code",
   "execution_count": 1,
   "id": "1b2cdb0d",
   "metadata": {
    "_cell_guid": "b1076dfc-b9ad-4769-8c92-a6c4dae69d19",
    "_uuid": "8f2839f25d086af736a60e9eeb907d3b93b6e0e5",
    "execution": {
     "iopub.execute_input": "2024-10-16T13:27:07.580837Z",
     "iopub.status.busy": "2024-10-16T13:27:07.580425Z",
     "iopub.status.idle": "2024-10-16T13:27:08.177526Z",
     "shell.execute_reply": "2024-10-16T13:27:08.176695Z"
    },
    "papermill": {
     "duration": 0.607843,
     "end_time": "2024-10-16T13:27:08.179802",
     "exception": false,
     "start_time": "2024-10-16T13:27:07.571959",
     "status": "completed"
    },
    "tags": []
   },
   "outputs": [
    {
     "name": "stdout",
     "output_type": "stream",
     "text": [
      "/kaggle/input/nlp-dataset/sample_submission.csv\n",
      "/kaggle/input/nlp-dataset/train.csv\n",
      "/kaggle/input/nlp-dataset/test.csv\n"
     ]
    }
   ],
   "source": [
    "# This Python 3 environment comes with many helpful analytics libraries installed\n",
    "# It is defined by the kaggle/python Docker image: https://github.com/kaggle/docker-python\n",
    "# For example, here's several helpful packages to load\n",
    "\n",
    "import numpy as np # linear algebra\n",
    "import pandas as pd # data processing, CSV file I/O (e.g. pd.read_csv)\n",
    "\n",
    "# Input data files are available in the read-only \"../input/\" directory\n",
    "# For example, running this (by clicking run or pressing Shift+Enter) will list all files under the input directory\n",
    "\n",
    "import os\n",
    "for dirname, _, filenames in os.walk('/kaggle/input'):\n",
    "    for filename in filenames:\n",
    "        print(os.path.join(dirname, filename))\n",
    "\n",
    "# You can write up to 20GB to the current directory (/kaggle/working/) that gets preserved as output when you create a version using \"Save & Run All\" \n",
    "# You can also write temporary files to /kaggle/temp/, but they won't be saved outside of the current session"
   ]
  },
  {
   "cell_type": "code",
   "execution_count": 2,
   "id": "d813fb3a",
   "metadata": {
    "execution": {
     "iopub.execute_input": "2024-10-16T13:27:08.193456Z",
     "iopub.status.busy": "2024-10-16T13:27:08.193075Z",
     "iopub.status.idle": "2024-10-16T13:27:09.781253Z",
     "shell.execute_reply": "2024-10-16T13:27:09.780472Z"
    },
    "papermill": {
     "duration": 1.597329,
     "end_time": "2024-10-16T13:27:09.783441",
     "exception": false,
     "start_time": "2024-10-16T13:27:08.186112",
     "status": "completed"
    },
    "tags": []
   },
   "outputs": [],
   "source": [
    "import numpy as np\n",
    "import pandas as pd\n",
    "import re\n",
    "\n",
    "from sklearn.feature_extraction.text import TfidfVectorizer\n",
    "from sklearn.metrics import f1_score\n",
    "from sklearn.model_selection import train_test_split\n",
    "from sklearn.naive_bayes import MultinomialNB\n",
    "\n",
    "from catboost import CatBoostClassifier as CB\n",
    "\n",
    "import matplotlib.pyplot as plt\n",
    "import seaborn as sns\n",
    "\n",
    "import warnings\n",
    "warnings.filterwarnings(action='ignore')"
   ]
  },
  {
   "cell_type": "code",
   "execution_count": 3,
   "id": "52929ae1",
   "metadata": {
    "execution": {
     "iopub.execute_input": "2024-10-16T13:27:09.797207Z",
     "iopub.status.busy": "2024-10-16T13:27:09.796809Z",
     "iopub.status.idle": "2024-10-16T13:27:09.872491Z",
     "shell.execute_reply": "2024-10-16T13:27:09.871540Z"
    },
    "papermill": {
     "duration": 0.084838,
     "end_time": "2024-10-16T13:27:09.874671",
     "exception": false,
     "start_time": "2024-10-16T13:27:09.789833",
     "status": "completed"
    },
    "tags": []
   },
   "outputs": [
    {
     "data": {
      "text/html": [
       "<div>\n",
       "<style scoped>\n",
       "    .dataframe tbody tr th:only-of-type {\n",
       "        vertical-align: middle;\n",
       "    }\n",
       "\n",
       "    .dataframe tbody tr th {\n",
       "        vertical-align: top;\n",
       "    }\n",
       "\n",
       "    .dataframe thead th {\n",
       "        text-align: right;\n",
       "    }\n",
       "</style>\n",
       "<table border=\"1\" class=\"dataframe\">\n",
       "  <thead>\n",
       "    <tr style=\"text-align: right;\">\n",
       "      <th></th>\n",
       "      <th>id</th>\n",
       "      <th>keyword</th>\n",
       "      <th>location</th>\n",
       "      <th>text</th>\n",
       "      <th>target</th>\n",
       "    </tr>\n",
       "  </thead>\n",
       "  <tbody>\n",
       "    <tr>\n",
       "      <th>0</th>\n",
       "      <td>1</td>\n",
       "      <td>NaN</td>\n",
       "      <td>NaN</td>\n",
       "      <td>Our Deeds are the Reason of this #earthquake M...</td>\n",
       "      <td>1</td>\n",
       "    </tr>\n",
       "    <tr>\n",
       "      <th>1</th>\n",
       "      <td>4</td>\n",
       "      <td>NaN</td>\n",
       "      <td>NaN</td>\n",
       "      <td>Forest fire near La Ronge Sask. Canada</td>\n",
       "      <td>1</td>\n",
       "    </tr>\n",
       "    <tr>\n",
       "      <th>2</th>\n",
       "      <td>5</td>\n",
       "      <td>NaN</td>\n",
       "      <td>NaN</td>\n",
       "      <td>All residents asked to 'shelter in place' are ...</td>\n",
       "      <td>1</td>\n",
       "    </tr>\n",
       "    <tr>\n",
       "      <th>3</th>\n",
       "      <td>6</td>\n",
       "      <td>NaN</td>\n",
       "      <td>NaN</td>\n",
       "      <td>13,000 people receive #wildfires evacuation or...</td>\n",
       "      <td>1</td>\n",
       "    </tr>\n",
       "    <tr>\n",
       "      <th>4</th>\n",
       "      <td>7</td>\n",
       "      <td>NaN</td>\n",
       "      <td>NaN</td>\n",
       "      <td>Just got sent this photo from Ruby #Alaska as ...</td>\n",
       "      <td>1</td>\n",
       "    </tr>\n",
       "  </tbody>\n",
       "</table>\n",
       "</div>"
      ],
      "text/plain": [
       "   id keyword location                                               text  \\\n",
       "0   1     NaN      NaN  Our Deeds are the Reason of this #earthquake M...   \n",
       "1   4     NaN      NaN             Forest fire near La Ronge Sask. Canada   \n",
       "2   5     NaN      NaN  All residents asked to 'shelter in place' are ...   \n",
       "3   6     NaN      NaN  13,000 people receive #wildfires evacuation or...   \n",
       "4   7     NaN      NaN  Just got sent this photo from Ruby #Alaska as ...   \n",
       "\n",
       "   target  \n",
       "0       1  \n",
       "1       1  \n",
       "2       1  \n",
       "3       1  \n",
       "4       1  "
      ]
     },
     "execution_count": 3,
     "metadata": {},
     "output_type": "execute_result"
    }
   ],
   "source": [
    "train_df = pd.read_csv('/kaggle/input/nlp-dataset/train.csv')\n",
    "test_df = pd.read_csv('/kaggle/input/nlp-dataset/test.csv')\n",
    "\n",
    "target_train = train_df['target']\n",
    "train_df.head()"
   ]
  },
  {
   "cell_type": "code",
   "execution_count": 4,
   "id": "65765644",
   "metadata": {
    "execution": {
     "iopub.execute_input": "2024-10-16T13:27:09.890958Z",
     "iopub.status.busy": "2024-10-16T13:27:09.890659Z",
     "iopub.status.idle": "2024-10-16T13:27:09.904108Z",
     "shell.execute_reply": "2024-10-16T13:27:09.903168Z"
    },
    "papermill": {
     "duration": 0.022923,
     "end_time": "2024-10-16T13:27:09.905972",
     "exception": false,
     "start_time": "2024-10-16T13:27:09.883049",
     "status": "completed"
    },
    "tags": []
   },
   "outputs": [],
   "source": [
    "train_df['Target'] = train_df['target'].copy()\n",
    "train_df.pop('target')\n",
    "\n",
    "train_df.fillna('NaN', inplace=True)\n",
    "test_df.fillna('NaN', inplace=True)"
   ]
  },
  {
   "cell_type": "code",
   "execution_count": 5,
   "id": "11a177f5",
   "metadata": {
    "execution": {
     "iopub.execute_input": "2024-10-16T13:27:09.919509Z",
     "iopub.status.busy": "2024-10-16T13:27:09.919224Z",
     "iopub.status.idle": "2024-10-16T13:27:09.923980Z",
     "shell.execute_reply": "2024-10-16T13:27:09.923163Z"
    },
    "papermill": {
     "duration": 0.013762,
     "end_time": "2024-10-16T13:27:09.925917",
     "exception": false,
     "start_time": "2024-10-16T13:27:09.912155",
     "status": "completed"
    },
    "tags": []
   },
   "outputs": [],
   "source": [
    "def clean_text(text):\n",
    "    # Remove links\n",
    "    text = re.sub(r'http[s]?://\\S+', '', text)  # Removes URLs\n",
    "    # Remove punctuation and numbers\n",
    "    text = re.sub(r'[^a-zA-Z\\s]', '', text)  # Removes punctuation and numbers\n",
    "    # Remove extra whitespace\n",
    "    text = re.sub(r'\\s+', ' ', text).strip()\n",
    "    return text.lower()"
   ]
  },
  {
   "cell_type": "code",
   "execution_count": 6,
   "id": "78962d70",
   "metadata": {
    "execution": {
     "iopub.execute_input": "2024-10-16T13:27:09.939330Z",
     "iopub.status.busy": "2024-10-16T13:27:09.938869Z",
     "iopub.status.idle": "2024-10-16T13:27:11.236815Z",
     "shell.execute_reply": "2024-10-16T13:27:11.235604Z"
    },
    "papermill": {
     "duration": 1.307293,
     "end_time": "2024-10-16T13:27:11.239333",
     "exception": false,
     "start_time": "2024-10-16T13:27:09.932040",
     "status": "completed"
    },
    "tags": []
   },
   "outputs": [
    {
     "name": "stdout",
     "output_type": "stream",
     "text": [
      "Archive:  /usr/share/nltk_data/corpora/wordnet.zip\r\n",
      "   creating: /usr/share/nltk_data/corpora/wordnet/\r\n",
      "  inflating: /usr/share/nltk_data/corpora/wordnet/lexnames  \r\n",
      "  inflating: /usr/share/nltk_data/corpora/wordnet/data.verb  \r\n",
      "  inflating: /usr/share/nltk_data/corpora/wordnet/index.adv  \r\n",
      "  inflating: /usr/share/nltk_data/corpora/wordnet/adv.exc  \r\n",
      "  inflating: /usr/share/nltk_data/corpora/wordnet/index.verb  \r\n",
      "  inflating: /usr/share/nltk_data/corpora/wordnet/cntlist.rev  \r\n",
      "  inflating: /usr/share/nltk_data/corpora/wordnet/data.adj  \r\n",
      "  inflating: /usr/share/nltk_data/corpora/wordnet/index.adj  \r\n",
      "  inflating: /usr/share/nltk_data/corpora/wordnet/LICENSE  \r\n",
      "  inflating: /usr/share/nltk_data/corpora/wordnet/citation.bib  \r\n",
      "  inflating: /usr/share/nltk_data/corpora/wordnet/noun.exc  \r\n",
      "  inflating: /usr/share/nltk_data/corpora/wordnet/verb.exc  \r\n",
      "  inflating: /usr/share/nltk_data/corpora/wordnet/README  \r\n",
      "  inflating: /usr/share/nltk_data/corpora/wordnet/index.sense  \r\n",
      "  inflating: /usr/share/nltk_data/corpora/wordnet/data.noun  \r\n",
      "  inflating: /usr/share/nltk_data/corpora/wordnet/data.adv  \r\n",
      "  inflating: /usr/share/nltk_data/corpora/wordnet/index.noun  \r\n",
      "  inflating: /usr/share/nltk_data/corpora/wordnet/adj.exc  \r\n"
     ]
    }
   ],
   "source": [
    "!unzip /usr/share/nltk_data/corpora/wordnet.zip -d /usr/share/nltk_data/corpora/"
   ]
  },
  {
   "cell_type": "code",
   "execution_count": 7,
   "id": "fd540948",
   "metadata": {
    "execution": {
     "iopub.execute_input": "2024-10-16T13:27:11.254535Z",
     "iopub.status.busy": "2024-10-16T13:27:11.254174Z",
     "iopub.status.idle": "2024-10-16T13:27:11.716444Z",
     "shell.execute_reply": "2024-10-16T13:27:11.715479Z"
    },
    "papermill": {
     "duration": 0.472576,
     "end_time": "2024-10-16T13:27:11.718893",
     "exception": false,
     "start_time": "2024-10-16T13:27:11.246317",
     "status": "completed"
    },
    "tags": []
   },
   "outputs": [
    {
     "name": "stdout",
     "output_type": "stream",
     "text": [
      "CPU times: user 197 ms, sys: 46 ms, total: 243 ms\n",
      "Wall time: 455 ms\n"
     ]
    }
   ],
   "source": [
    "%%time\n",
    "from nltk.stem import WordNetLemmatizer\n",
    "from nltk.tokenize import word_tokenize\n",
    "from nltk.corpus import stopwords\n",
    "\n",
    "lem = WordNetLemmatizer()\n",
    "\n",
    "def lemmatize_text(text):\n",
    "    tokens = word_tokenize(text)\n",
    "    tokens = [i for i in tokens if i not in set(stopwords.words('english'))]\n",
    "    lemmatized_text = ' '.join([lem.lemmatize(token) for token in tokens])\n",
    "\n",
    "    return lemmatized_text"
   ]
  },
  {
   "cell_type": "code",
   "execution_count": 8,
   "id": "49a1cedc",
   "metadata": {
    "execution": {
     "iopub.execute_input": "2024-10-16T13:27:11.734400Z",
     "iopub.status.busy": "2024-10-16T13:27:11.733854Z",
     "iopub.status.idle": "2024-10-16T13:27:35.584201Z",
     "shell.execute_reply": "2024-10-16T13:27:35.583415Z"
    },
    "papermill": {
     "duration": 23.860523,
     "end_time": "2024-10-16T13:27:35.586516",
     "exception": false,
     "start_time": "2024-10-16T13:27:11.725993",
     "status": "completed"
    },
    "tags": []
   },
   "outputs": [],
   "source": [
    "to_change = ['text'] #'keyword', 'location']\n",
    "for col in to_change:\n",
    "    train_df[col] = train_df[col].apply(clean_text)\n",
    "    test_df[col] = test_df[col].apply(clean_text)\n",
    "    \n",
    "    train_df[col] = train_df[col].apply(lemmatize_text)\n",
    "    test_df[col] = test_df[col].apply(lemmatize_text)"
   ]
  },
  {
   "cell_type": "code",
   "execution_count": 9,
   "id": "5a2e2d5c",
   "metadata": {
    "execution": {
     "iopub.execute_input": "2024-10-16T13:27:35.601261Z",
     "iopub.status.busy": "2024-10-16T13:27:35.600957Z",
     "iopub.status.idle": "2024-10-16T13:27:35.611697Z",
     "shell.execute_reply": "2024-10-16T13:27:35.610866Z"
    },
    "papermill": {
     "duration": 0.020113,
     "end_time": "2024-10-16T13:27:35.613544",
     "exception": false,
     "start_time": "2024-10-16T13:27:35.593431",
     "status": "completed"
    },
    "tags": []
   },
   "outputs": [
    {
     "data": {
      "text/html": [
       "<div>\n",
       "<style scoped>\n",
       "    .dataframe tbody tr th:only-of-type {\n",
       "        vertical-align: middle;\n",
       "    }\n",
       "\n",
       "    .dataframe tbody tr th {\n",
       "        vertical-align: top;\n",
       "    }\n",
       "\n",
       "    .dataframe thead th {\n",
       "        text-align: right;\n",
       "    }\n",
       "</style>\n",
       "<table border=\"1\" class=\"dataframe\">\n",
       "  <thead>\n",
       "    <tr style=\"text-align: right;\">\n",
       "      <th></th>\n",
       "      <th>id</th>\n",
       "      <th>keyword</th>\n",
       "      <th>location</th>\n",
       "      <th>text</th>\n",
       "      <th>Target</th>\n",
       "    </tr>\n",
       "  </thead>\n",
       "  <tbody>\n",
       "    <tr>\n",
       "      <th>0</th>\n",
       "      <td>1</td>\n",
       "      <td>NaN</td>\n",
       "      <td>NaN</td>\n",
       "      <td>deed reason earthquake may allah forgive u</td>\n",
       "      <td>1</td>\n",
       "    </tr>\n",
       "    <tr>\n",
       "      <th>1</th>\n",
       "      <td>4</td>\n",
       "      <td>NaN</td>\n",
       "      <td>NaN</td>\n",
       "      <td>forest fire near la ronge sask canada</td>\n",
       "      <td>1</td>\n",
       "    </tr>\n",
       "    <tr>\n",
       "      <th>2</th>\n",
       "      <td>5</td>\n",
       "      <td>NaN</td>\n",
       "      <td>NaN</td>\n",
       "      <td>resident asked shelter place notified officer ...</td>\n",
       "      <td>1</td>\n",
       "    </tr>\n",
       "    <tr>\n",
       "      <th>3</th>\n",
       "      <td>6</td>\n",
       "      <td>NaN</td>\n",
       "      <td>NaN</td>\n",
       "      <td>people receive wildfire evacuation order calif...</td>\n",
       "      <td>1</td>\n",
       "    </tr>\n",
       "    <tr>\n",
       "      <th>4</th>\n",
       "      <td>7</td>\n",
       "      <td>NaN</td>\n",
       "      <td>NaN</td>\n",
       "      <td>got sent photo ruby alaska smoke wildfire pour...</td>\n",
       "      <td>1</td>\n",
       "    </tr>\n",
       "  </tbody>\n",
       "</table>\n",
       "</div>"
      ],
      "text/plain": [
       "   id keyword location                                               text  \\\n",
       "0   1     NaN      NaN         deed reason earthquake may allah forgive u   \n",
       "1   4     NaN      NaN              forest fire near la ronge sask canada   \n",
       "2   5     NaN      NaN  resident asked shelter place notified officer ...   \n",
       "3   6     NaN      NaN  people receive wildfire evacuation order calif...   \n",
       "4   7     NaN      NaN  got sent photo ruby alaska smoke wildfire pour...   \n",
       "\n",
       "   Target  \n",
       "0       1  \n",
       "1       1  \n",
       "2       1  \n",
       "3       1  \n",
       "4       1  "
      ]
     },
     "execution_count": 9,
     "metadata": {},
     "output_type": "execute_result"
    }
   ],
   "source": [
    "train_df.head()"
   ]
  },
  {
   "cell_type": "code",
   "execution_count": 10,
   "id": "986bb1be",
   "metadata": {
    "execution": {
     "iopub.execute_input": "2024-10-16T13:27:35.628857Z",
     "iopub.status.busy": "2024-10-16T13:27:35.628193Z",
     "iopub.status.idle": "2024-10-16T13:27:35.637294Z",
     "shell.execute_reply": "2024-10-16T13:27:35.636485Z"
    },
    "papermill": {
     "duration": 0.01865,
     "end_time": "2024-10-16T13:27:35.639154",
     "exception": false,
     "start_time": "2024-10-16T13:27:35.620504",
     "status": "completed"
    },
    "tags": []
   },
   "outputs": [
    {
     "data": {
      "text/html": [
       "<div>\n",
       "<style scoped>\n",
       "    .dataframe tbody tr th:only-of-type {\n",
       "        vertical-align: middle;\n",
       "    }\n",
       "\n",
       "    .dataframe tbody tr th {\n",
       "        vertical-align: top;\n",
       "    }\n",
       "\n",
       "    .dataframe thead th {\n",
       "        text-align: right;\n",
       "    }\n",
       "</style>\n",
       "<table border=\"1\" class=\"dataframe\">\n",
       "  <thead>\n",
       "    <tr style=\"text-align: right;\">\n",
       "      <th></th>\n",
       "      <th>id</th>\n",
       "      <th>keyword</th>\n",
       "      <th>location</th>\n",
       "      <th>text</th>\n",
       "    </tr>\n",
       "  </thead>\n",
       "  <tbody>\n",
       "    <tr>\n",
       "      <th>0</th>\n",
       "      <td>0</td>\n",
       "      <td>NaN</td>\n",
       "      <td>NaN</td>\n",
       "      <td>happened terrible car crash</td>\n",
       "    </tr>\n",
       "    <tr>\n",
       "      <th>1</th>\n",
       "      <td>2</td>\n",
       "      <td>NaN</td>\n",
       "      <td>NaN</td>\n",
       "      <td>heard earthquake different city stay safe ever...</td>\n",
       "    </tr>\n",
       "    <tr>\n",
       "      <th>2</th>\n",
       "      <td>3</td>\n",
       "      <td>NaN</td>\n",
       "      <td>NaN</td>\n",
       "      <td>forest fire spot pond goose fleeing across str...</td>\n",
       "    </tr>\n",
       "    <tr>\n",
       "      <th>3</th>\n",
       "      <td>9</td>\n",
       "      <td>NaN</td>\n",
       "      <td>NaN</td>\n",
       "      <td>apocalypse lighting spokane wildfire</td>\n",
       "    </tr>\n",
       "    <tr>\n",
       "      <th>4</th>\n",
       "      <td>11</td>\n",
       "      <td>NaN</td>\n",
       "      <td>NaN</td>\n",
       "      <td>typhoon soudelor kill china taiwan</td>\n",
       "    </tr>\n",
       "  </tbody>\n",
       "</table>\n",
       "</div>"
      ],
      "text/plain": [
       "   id keyword location                                               text\n",
       "0   0     NaN      NaN                        happened terrible car crash\n",
       "1   2     NaN      NaN  heard earthquake different city stay safe ever...\n",
       "2   3     NaN      NaN  forest fire spot pond goose fleeing across str...\n",
       "3   9     NaN      NaN               apocalypse lighting spokane wildfire\n",
       "4  11     NaN      NaN                 typhoon soudelor kill china taiwan"
      ]
     },
     "execution_count": 10,
     "metadata": {},
     "output_type": "execute_result"
    }
   ],
   "source": [
    "test_df.head()"
   ]
  },
  {
   "cell_type": "markdown",
   "id": "c4f9b6e0",
   "metadata": {
    "papermill": {
     "duration": 0.006952,
     "end_time": "2024-10-16T13:27:35.653225",
     "exception": false,
     "start_time": "2024-10-16T13:27:35.646273",
     "status": "completed"
    },
    "tags": []
   },
   "source": [
    "**TF-IDF Vectorization**"
   ]
  },
  {
   "cell_type": "code",
   "execution_count": 11,
   "id": "df0e1938",
   "metadata": {
    "execution": {
     "iopub.execute_input": "2024-10-16T13:27:35.668284Z",
     "iopub.status.busy": "2024-10-16T13:27:35.668000Z",
     "iopub.status.idle": "2024-10-16T13:27:35.675489Z",
     "shell.execute_reply": "2024-10-16T13:27:35.674690Z"
    },
    "papermill": {
     "duration": 0.01706,
     "end_time": "2024-10-16T13:27:35.677250",
     "exception": false,
     "start_time": "2024-10-16T13:27:35.660190",
     "status": "completed"
    },
    "tags": []
   },
   "outputs": [],
   "source": [
    "vect_text = TfidfVectorizer(max_features=5000, stop_words='english')\n",
    "vect_keyword = TfidfVectorizer(max_features=500, stop_words='english')\n",
    "vect_location = TfidfVectorizer(max_features=500, stop_words='english')\n",
    "\n",
    "def tfidf(data, vect, train=1):\n",
    "    tfidf = vect.fit_transform(data) if train else vect.transform(data)\n",
    "    \n",
    "    features = vect.get_feature_names_out()\n",
    "    score = tfidf.toarray()\n",
    "\n",
    "    return pd.DataFrame({features[i] : score[:, i] for i in range(len(features))})\n",
    "\n",
    "def create_features(df, train=1):\n",
    "    text_tfidf = tfidf(df['text'], vect_text, train)\n",
    "    #keyword_tfidf = tfidf(df['keyword'], vect_keyword, train)\n",
    "    #location_tfidf = tfidf(df['location'], vect_location, train)\n",
    "    df = pd.concat((text_tfidf,df), axis=1)\n",
    "    \n",
    "    df.drop(['text', 'id', 'keyword','location'], axis=1, inplace=True)\n",
    "    \n",
    "    return df"
   ]
  },
  {
   "cell_type": "code",
   "execution_count": 12,
   "id": "4f940497",
   "metadata": {
    "execution": {
     "iopub.execute_input": "2024-10-16T13:27:35.692720Z",
     "iopub.status.busy": "2024-10-16T13:27:35.692408Z",
     "iopub.status.idle": "2024-10-16T13:27:43.767606Z",
     "shell.execute_reply": "2024-10-16T13:27:43.766519Z"
    },
    "papermill": {
     "duration": 8.08516,
     "end_time": "2024-10-16T13:27:43.769739",
     "exception": false,
     "start_time": "2024-10-16T13:27:35.684579",
     "status": "completed"
    },
    "tags": []
   },
   "outputs": [
    {
     "name": "stdout",
     "output_type": "stream",
     "text": [
      "CPU times: user 7.59 s, sys: 467 ms, total: 8.06 s\n",
      "Wall time: 8.07 s\n"
     ]
    }
   ],
   "source": [
    "%%time\n",
    "ids = test_df['id'].copy()\n",
    "\n",
    "train_df = create_features(train_df, train=1)\n",
    "test_df = create_features(test_df, train=0)\n",
    "\n",
    "uinque_index = lambda cols: [(f\"{col}_{i}\" if list(cols).count(col) > 1 else col) for i, col in enumerate(cols)]\n",
    "\n",
    "train_df.columns = uinque_index(train_df.columns)\n",
    "test_df.columns = uinque_index(test_df.columns)"
   ]
  },
  {
   "cell_type": "code",
   "execution_count": 13,
   "id": "24926e3e",
   "metadata": {
    "execution": {
     "iopub.execute_input": "2024-10-16T13:27:43.785610Z",
     "iopub.status.busy": "2024-10-16T13:27:43.785311Z",
     "iopub.status.idle": "2024-10-16T13:27:43.791343Z",
     "shell.execute_reply": "2024-10-16T13:27:43.790448Z"
    },
    "papermill": {
     "duration": 0.016053,
     "end_time": "2024-10-16T13:27:43.793254",
     "exception": false,
     "start_time": "2024-10-16T13:27:43.777201",
     "status": "completed"
    },
    "tags": []
   },
   "outputs": [
    {
     "data": {
      "text/plain": [
       "4997"
      ]
     },
     "execution_count": 13,
     "metadata": {},
     "output_type": "execute_result"
    }
   ],
   "source": [
    "train_df.columns.values.tolist().index('Target')"
   ]
  },
  {
   "cell_type": "code",
   "execution_count": 14,
   "id": "c50727a8",
   "metadata": {
    "execution": {
     "iopub.execute_input": "2024-10-16T13:27:43.809029Z",
     "iopub.status.busy": "2024-10-16T13:27:43.808685Z",
     "iopub.status.idle": "2024-10-16T13:27:43.814514Z",
     "shell.execute_reply": "2024-10-16T13:27:43.813688Z"
    },
    "papermill": {
     "duration": 0.016012,
     "end_time": "2024-10-16T13:27:43.816473",
     "exception": false,
     "start_time": "2024-10-16T13:27:43.800461",
     "status": "completed"
    },
    "tags": []
   },
   "outputs": [
    {
     "data": {
      "text/plain": [
       "((7613, 4998), (3263, 4997))"
      ]
     },
     "execution_count": 14,
     "metadata": {},
     "output_type": "execute_result"
    }
   ],
   "source": [
    "train_df.shape, test_df.shape"
   ]
  },
  {
   "cell_type": "code",
   "execution_count": 15,
   "id": "436da5a9",
   "metadata": {
    "execution": {
     "iopub.execute_input": "2024-10-16T13:27:43.832413Z",
     "iopub.status.busy": "2024-10-16T13:27:43.832104Z",
     "iopub.status.idle": "2024-10-16T13:27:43.845014Z",
     "shell.execute_reply": "2024-10-16T13:27:43.844089Z"
    },
    "papermill": {
     "duration": 0.023185,
     "end_time": "2024-10-16T13:27:43.846973",
     "exception": false,
     "start_time": "2024-10-16T13:27:43.823788",
     "status": "completed"
    },
    "tags": []
   },
   "outputs": [
    {
     "data": {
      "text/plain": [
       "count    7613.00000\n",
       "mean        0.42966\n",
       "std         0.49506\n",
       "min         0.00000\n",
       "25%         0.00000\n",
       "50%         0.00000\n",
       "75%         1.00000\n",
       "max         1.00000\n",
       "Name: Target, dtype: float64"
      ]
     },
     "execution_count": 15,
     "metadata": {},
     "output_type": "execute_result"
    }
   ],
   "source": [
    "train_df['Target'].describe()"
   ]
  },
  {
   "cell_type": "code",
   "execution_count": 16,
   "id": "be55626d",
   "metadata": {
    "execution": {
     "iopub.execute_input": "2024-10-16T13:27:43.863405Z",
     "iopub.status.busy": "2024-10-16T13:27:43.863086Z",
     "iopub.status.idle": "2024-10-16T13:27:44.039572Z",
     "shell.execute_reply": "2024-10-16T13:27:44.038825Z"
    },
    "papermill": {
     "duration": 0.187446,
     "end_time": "2024-10-16T13:27:44.041811",
     "exception": false,
     "start_time": "2024-10-16T13:27:43.854365",
     "status": "completed"
    },
    "tags": []
   },
   "outputs": [],
   "source": [
    "xtest, xval, ytest, yval = \\\n",
    "train_test_split(train_df, target_train, test_size=0.2, shuffle=True, stratify=train_df['Target'])\n",
    "\n",
    "for df in [xtest, xval, train_df]:\n",
    "    df.pop('Target')\n",
    "    \n",
    "def is_dropping_good(xtest, xval, ytest, yval):\n",
    "    clf = CB(iterations=100, task_type='CPU', verbose=False)\n",
    "\n",
    "    clf.fit(xtest, ytest)\n",
    "\n",
    "    print(f\"f1 with all features: {f1_score(yval, clf.predict(xval))}\")\n",
    "    print(pd.DataFrame(clf.feature_importances_).describe())\n",
    "    sns.scatterplot(pd.DataFrame(clf.feature_importances_))\n",
    "    plt.show()\n",
    "    \n",
    "    print('-'*100)\n",
    "\n",
    "    print(\"shapes before\", xval.shape, xtest.shape)\n",
    "    \n",
    "    fimp = clf.feature_importances_.argsort()\n",
    "    xval.drop([xval.columns[i] for i in fimp[:len(fimp) // 2]], axis=1, inplace=True)\n",
    "    xtest.drop([xtest.columns[i] for i in fimp[:len(fimp) // 2]], axis=1, inplace=True)\n",
    "    \n",
    "    print(\"shapes after\", xval.shape, xtest.shape)\n",
    "\n",
    "    print('-'*100)\n",
    "\n",
    "    clf = CB(iterations=100, task_type='CPU', verbose=False)\n",
    "\n",
    "    clf.fit(xtest, ytest)\n",
    "\n",
    "    print(f\"f1 after dropping features: {f1_score(yval, clf.predict(xval))}\")\n",
    "    \n",
    "    return fimp"
   ]
  },
  {
   "cell_type": "code",
   "execution_count": 17,
   "id": "272f592e",
   "metadata": {
    "execution": {
     "iopub.execute_input": "2024-10-16T13:27:44.058490Z",
     "iopub.status.busy": "2024-10-16T13:27:44.057983Z",
     "iopub.status.idle": "2024-10-16T13:28:12.669356Z",
     "shell.execute_reply": "2024-10-16T13:28:12.668417Z"
    },
    "papermill": {
     "duration": 28.621986,
     "end_time": "2024-10-16T13:28:12.671558",
     "exception": false,
     "start_time": "2024-10-16T13:27:44.049572",
     "status": "completed"
    },
    "tags": []
   },
   "outputs": [
    {
     "data": {
      "text/plain": [
       "0.7971217971217971"
      ]
     },
     "execution_count": 17,
     "metadata": {},
     "output_type": "execute_result"
    }
   ],
   "source": [
    "#clf = MultinomialNB()\n",
    "clf = CB(iterations=1000, task_type='CPU', verbose=False)\n",
    "clf.fit(train_df, target_train)\n",
    "\n",
    "f1_score(target_train, clf.predict(train_df))"
   ]
  },
  {
   "cell_type": "code",
   "execution_count": 18,
   "id": "635fe24e",
   "metadata": {
    "execution": {
     "iopub.execute_input": "2024-10-16T13:28:12.689320Z",
     "iopub.status.busy": "2024-10-16T13:28:12.688805Z",
     "iopub.status.idle": "2024-10-16T13:28:13.144094Z",
     "shell.execute_reply": "2024-10-16T13:28:13.143070Z"
    },
    "papermill": {
     "duration": 0.46608,
     "end_time": "2024-10-16T13:28:13.146246",
     "exception": false,
     "start_time": "2024-10-16T13:28:12.680166",
     "status": "completed"
    },
    "tags": []
   },
   "outputs": [
    {
     "data": {
      "text/html": [
       "<div>\n",
       "<style scoped>\n",
       "    .dataframe tbody tr th:only-of-type {\n",
       "        vertical-align: middle;\n",
       "    }\n",
       "\n",
       "    .dataframe tbody tr th {\n",
       "        vertical-align: top;\n",
       "    }\n",
       "\n",
       "    .dataframe thead th {\n",
       "        text-align: right;\n",
       "    }\n",
       "</style>\n",
       "<table border=\"1\" class=\"dataframe\">\n",
       "  <thead>\n",
       "    <tr style=\"text-align: right;\">\n",
       "      <th></th>\n",
       "      <th>id</th>\n",
       "      <th>target</th>\n",
       "    </tr>\n",
       "  </thead>\n",
       "  <tbody>\n",
       "    <tr>\n",
       "      <th>0</th>\n",
       "      <td>0</td>\n",
       "      <td>1</td>\n",
       "    </tr>\n",
       "    <tr>\n",
       "      <th>1</th>\n",
       "      <td>2</td>\n",
       "      <td>1</td>\n",
       "    </tr>\n",
       "    <tr>\n",
       "      <th>2</th>\n",
       "      <td>3</td>\n",
       "      <td>1</td>\n",
       "    </tr>\n",
       "    <tr>\n",
       "      <th>3</th>\n",
       "      <td>9</td>\n",
       "      <td>1</td>\n",
       "    </tr>\n",
       "    <tr>\n",
       "      <th>4</th>\n",
       "      <td>11</td>\n",
       "      <td>1</td>\n",
       "    </tr>\n",
       "  </tbody>\n",
       "</table>\n",
       "</div>"
      ],
      "text/plain": [
       "   id  target\n",
       "0   0       1\n",
       "1   2       1\n",
       "2   3       1\n",
       "3   9       1\n",
       "4  11       1"
      ]
     },
     "execution_count": 18,
     "metadata": {},
     "output_type": "execute_result"
    }
   ],
   "source": [
    "submission = pd.DataFrame({\n",
    "    'id':ids,\n",
    "    'target':clf.predict(test_df)\n",
    "})\n",
    "\n",
    "submission.to_csv('submission.csv', index=False)\n",
    "submission.head()"
   ]
  },
  {
   "cell_type": "code",
   "execution_count": 19,
   "id": "9544e291",
   "metadata": {
    "execution": {
     "iopub.execute_input": "2024-10-16T13:28:13.164690Z",
     "iopub.status.busy": "2024-10-16T13:28:13.164366Z",
     "iopub.status.idle": "2024-10-16T13:28:13.179000Z",
     "shell.execute_reply": "2024-10-16T13:28:13.178102Z"
    },
    "papermill": {
     "duration": 0.025342,
     "end_time": "2024-10-16T13:28:13.180864",
     "exception": false,
     "start_time": "2024-10-16T13:28:13.155522",
     "status": "completed"
    },
    "tags": []
   },
   "outputs": [
    {
     "data": {
      "text/html": [
       "<div>\n",
       "<style scoped>\n",
       "    .dataframe tbody tr th:only-of-type {\n",
       "        vertical-align: middle;\n",
       "    }\n",
       "\n",
       "    .dataframe tbody tr th {\n",
       "        vertical-align: top;\n",
       "    }\n",
       "\n",
       "    .dataframe thead th {\n",
       "        text-align: right;\n",
       "    }\n",
       "</style>\n",
       "<table border=\"1\" class=\"dataframe\">\n",
       "  <thead>\n",
       "    <tr style=\"text-align: right;\">\n",
       "      <th></th>\n",
       "      <th>id</th>\n",
       "      <th>target</th>\n",
       "    </tr>\n",
       "  </thead>\n",
       "  <tbody>\n",
       "    <tr>\n",
       "      <th>count</th>\n",
       "      <td>3263.000000</td>\n",
       "      <td>3263.000000</td>\n",
       "    </tr>\n",
       "    <tr>\n",
       "      <th>mean</th>\n",
       "      <td>5427.152927</td>\n",
       "      <td>0.306466</td>\n",
       "    </tr>\n",
       "    <tr>\n",
       "      <th>std</th>\n",
       "      <td>3146.427221</td>\n",
       "      <td>0.461096</td>\n",
       "    </tr>\n",
       "    <tr>\n",
       "      <th>min</th>\n",
       "      <td>0.000000</td>\n",
       "      <td>0.000000</td>\n",
       "    </tr>\n",
       "    <tr>\n",
       "      <th>25%</th>\n",
       "      <td>2683.000000</td>\n",
       "      <td>0.000000</td>\n",
       "    </tr>\n",
       "    <tr>\n",
       "      <th>50%</th>\n",
       "      <td>5500.000000</td>\n",
       "      <td>0.000000</td>\n",
       "    </tr>\n",
       "    <tr>\n",
       "      <th>75%</th>\n",
       "      <td>8176.000000</td>\n",
       "      <td>1.000000</td>\n",
       "    </tr>\n",
       "    <tr>\n",
       "      <th>max</th>\n",
       "      <td>10875.000000</td>\n",
       "      <td>1.000000</td>\n",
       "    </tr>\n",
       "  </tbody>\n",
       "</table>\n",
       "</div>"
      ],
      "text/plain": [
       "                 id       target\n",
       "count   3263.000000  3263.000000\n",
       "mean    5427.152927     0.306466\n",
       "std     3146.427221     0.461096\n",
       "min        0.000000     0.000000\n",
       "25%     2683.000000     0.000000\n",
       "50%     5500.000000     0.000000\n",
       "75%     8176.000000     1.000000\n",
       "max    10875.000000     1.000000"
      ]
     },
     "execution_count": 19,
     "metadata": {},
     "output_type": "execute_result"
    }
   ],
   "source": [
    "submission.describe()"
   ]
  },
  {
   "cell_type": "code",
   "execution_count": 20,
   "id": "3bbd4415",
   "metadata": {
    "execution": {
     "iopub.execute_input": "2024-10-16T13:28:13.198114Z",
     "iopub.status.busy": "2024-10-16T13:28:13.197829Z",
     "iopub.status.idle": "2024-10-16T13:28:13.210279Z",
     "shell.execute_reply": "2024-10-16T13:28:13.209475Z"
    },
    "papermill": {
     "duration": 0.023163,
     "end_time": "2024-10-16T13:28:13.212188",
     "exception": false,
     "start_time": "2024-10-16T13:28:13.189025",
     "status": "completed"
    },
    "tags": []
   },
   "outputs": [
    {
     "data": {
      "text/html": [
       "<div>\n",
       "<style scoped>\n",
       "    .dataframe tbody tr th:only-of-type {\n",
       "        vertical-align: middle;\n",
       "    }\n",
       "\n",
       "    .dataframe tbody tr th {\n",
       "        vertical-align: top;\n",
       "    }\n",
       "\n",
       "    .dataframe thead th {\n",
       "        text-align: right;\n",
       "    }\n",
       "</style>\n",
       "<table border=\"1\" class=\"dataframe\">\n",
       "  <thead>\n",
       "    <tr style=\"text-align: right;\">\n",
       "      <th></th>\n",
       "      <th>id</th>\n",
       "      <th>target</th>\n",
       "    </tr>\n",
       "  </thead>\n",
       "  <tbody>\n",
       "    <tr>\n",
       "      <th>0</th>\n",
       "      <td>0</td>\n",
       "      <td>0</td>\n",
       "    </tr>\n",
       "    <tr>\n",
       "      <th>1</th>\n",
       "      <td>2</td>\n",
       "      <td>0</td>\n",
       "    </tr>\n",
       "    <tr>\n",
       "      <th>2</th>\n",
       "      <td>3</td>\n",
       "      <td>0</td>\n",
       "    </tr>\n",
       "    <tr>\n",
       "      <th>3</th>\n",
       "      <td>9</td>\n",
       "      <td>0</td>\n",
       "    </tr>\n",
       "    <tr>\n",
       "      <th>4</th>\n",
       "      <td>11</td>\n",
       "      <td>0</td>\n",
       "    </tr>\n",
       "  </tbody>\n",
       "</table>\n",
       "</div>"
      ],
      "text/plain": [
       "   id  target\n",
       "0   0       0\n",
       "1   2       0\n",
       "2   3       0\n",
       "3   9       0\n",
       "4  11       0"
      ]
     },
     "execution_count": 20,
     "metadata": {},
     "output_type": "execute_result"
    }
   ],
   "source": [
    "pd.read_csv('/kaggle/input/nlp-dataset/sample_submission.csv').head()"
   ]
  }
 ],
 "metadata": {
  "kaggle": {
   "accelerator": "nvidiaTeslaT4",
   "dataSources": [
    {
     "datasetId": 5887487,
     "sourceId": 9641304,
     "sourceType": "datasetVersion"
    }
   ],
   "dockerImageVersionId": 30787,
   "isGpuEnabled": true,
   "isInternetEnabled": false,
   "language": "python",
   "sourceType": "notebook"
  },
  "kernelspec": {
   "display_name": "Python 3",
   "language": "python",
   "name": "python3"
  },
  "language_info": {
   "codemirror_mode": {
    "name": "ipython",
    "version": 3
   },
   "file_extension": ".py",
   "mimetype": "text/x-python",
   "name": "python",
   "nbconvert_exporter": "python",
   "pygments_lexer": "ipython3",
   "version": "3.10.14"
  },
  "papermill": {
   "default_parameters": {},
   "duration": 68.864075,
   "end_time": "2024-10-16T13:28:13.939289",
   "environment_variables": {},
   "exception": null,
   "input_path": "__notebook__.ipynb",
   "output_path": "__notebook__.ipynb",
   "parameters": {},
   "start_time": "2024-10-16T13:27:05.075214",
   "version": "2.6.0"
  }
 },
 "nbformat": 4,
 "nbformat_minor": 5
}
